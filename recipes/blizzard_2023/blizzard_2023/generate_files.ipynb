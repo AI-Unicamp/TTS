{
 "cells": [
  {
   "cell_type": "code",
   "execution_count": 79,
   "metadata": {},
   "outputs": [],
   "source": [
    "import librosa\n",
    "import pandas as pd\n",
    "import soundfile as sf\n",
    "from IPython.display import Audio\n",
    "from tqdm import tqdm"
   ]
  },
  {
   "cell_type": "code",
   "execution_count": 101,
   "metadata": {},
   "outputs": [],
   "source": [
    "df_neb = pd.read_csv('NEB_train.csv', sep='|', header=None, names= ['Filename','Start (ms)','End (ms)', 'Text/Phonemes', 'Aligned Phonemes', 'Durations (ms)'])\n",
    "df_ad = pd.read_csv('AD_train.csv', sep='|', header=None, names= ['Filename','Start (ms)','End (ms)', 'Text/Phonemes', 'Aligned Phonemes', 'Durations (ms)'])\n",
    "df_neb_filter = df_neb.drop_duplicates(subset=['Filename', 'Start (ms)', 'End (ms)'], keep='first', ignore_index= True)\n",
    "df_ad_filter = df_ad.drop_duplicates(subset=['Filename', 'Start (ms)', 'End (ms)'], keep='first', ignore_index=True)"
   ]
  },
  {
   "cell_type": "markdown",
   "metadata": {},
   "source": [
    "## Generate Audios "
   ]
  },
  {
   "cell_type": "code",
   "execution_count": null,
   "metadata": {},
   "outputs": [],
   "source": [
    "for idx in tqdm(range(len(df_neb_filter))):\n",
    "    file = 'raw/' + df_neb_filter.Filename[idx] + '.wav'\n",
    "    start = df_neb_filter['Start (ms)'][idx]\n",
    "    end = df_neb_filter['End (ms)'][idx]\n",
    "    x, sr = librosa.load(file)\n",
    "    x_start = round(start*sr/1e3)\n",
    "    x_end = round(end*sr/1e3)\n",
    "    slice = x[x_start:x_end]\n",
    "    sf.write('wavs/' + 'NEB_' + str(idx) + '.wav', slice, sr)"
   ]
  },
  {
   "cell_type": "code",
   "execution_count": null,
   "metadata": {},
   "outputs": [],
   "source": [
    "for idx in tqdm(range(len(df_ad_filter))):\n",
    "    file = 'raw/' + df_ad_filter.Filename[idx] + '.wav'\n",
    "    start = df_ad_filter['Start (ms)'][idx]\n",
    "    end = df_ad_filter['End (ms)'][idx]\n",
    "    x, sr = librosa.load(file)\n",
    "    x_start = round(start*sr/1e3)\n",
    "    x_end = round(end*sr/1e3)\n",
    "    slice = x[x_start:x_end]\n",
    "    sf.write('wavs/' + 'AD_' + str(idx) + '.wav', slice, sr)"
   ]
  }
 ],
 "metadata": {
  "kernelspec": {
   "display_name": "Python 3.8.10 64-bit",
   "language": "python",
   "name": "python3"
  },
  "language_info": {
   "codemirror_mode": {
    "name": "ipython",
    "version": 3
   },
   "file_extension": ".py",
   "mimetype": "text/x-python",
   "name": "python",
   "nbconvert_exporter": "python",
   "pygments_lexer": "ipython3",
   "version": "3.8.10"
  },
  "orig_nbformat": 4,
  "vscode": {
   "interpreter": {
    "hash": "916dbcbb3f70747c44a77c7bcd40155683ae19c65e1c03b4aa3499c5328201f1"
   }
  }
 },
 "nbformat": 4,
 "nbformat_minor": 2
}
