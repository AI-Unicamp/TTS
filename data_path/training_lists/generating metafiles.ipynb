{
 "cells": [
  {
   "cell_type": "code",
   "execution_count": 1,
   "id": "b3c1cc78",
   "metadata": {},
   "outputs": [
    {
     "name": "stdout",
     "output_type": "stream",
     "text": [
      "cpqd-ptbr-es-MU-fastspeech_dev.txt   cpqd-ptbr-es-MU-fastspeech_leiame.txt\r\n",
      "cpqd-ptbr-es-MU-fastspeech_eval.txt  cpqd-ptbr-es-MU-fastspeech_train.txt\r\n"
     ]
    }
   ],
   "source": [
    "!ls /l/disk1/awstebas/data/pretrained_models/modelo_acustico/espnet2/CPQD-22050-fastspeech2/MU_CPQD_xvector_2.0/train_lists/"
   ]
  },
  {
   "cell_type": "code",
   "execution_count": 2,
   "id": "b0657c6f",
   "metadata": {},
   "outputs": [],
   "source": [
    "# The path where getting the training files, from 6 speakers with around 24 hours of speech\n",
    "train_list_path = '/l/disk1/awstebas/data/pretrained_models/modelo_acustico/espnet2/CPQD-22050-fastspeech2/MU_CPQD_xvector_2.0/train_lists/'\n",
    "file_train = 'cpqd-ptbr-es-MU-fastspeech_train.txt'\n",
    "file_val = 'cpqd-ptbr-es-MU-fastspeech_dev.txt'\n",
    "file_test = 'cpqd-ptbr-es-MU-fastspeech_eval.txt'"
   ]
  },
  {
   "cell_type": "code",
   "execution_count": 3,
   "id": "25fd82a4",
   "metadata": {},
   "outputs": [
    {
     "data": {
      "text/plain": [
       "'/l/disk1/awstebas/data/pretrained_models/modelo_acustico/espnet2/CPQD-22050-fastspeech2/MU_CPQD_xvector_2.0/train_lists/cpqd-ptbr-es-MU-fastspeech_train.txt'"
      ]
     },
     "execution_count": 3,
     "metadata": {},
     "output_type": "execute_result"
    }
   ],
   "source": [
    "import os\n",
    "import sys\n",
    "\n",
    "file_path_train = os.path.join(train_list_path, file_train)\n",
    "file_path_val = os.path.join(train_list_path, file_val)\n",
    "file_path_test = os.path.join(train_list_path, file_test)\n",
    "file_path_train"
   ]
  },
  {
   "cell_type": "code",
   "execution_count": 4,
   "id": "8461c72f",
   "metadata": {},
   "outputs": [
    {
     "name": "stdout",
     "output_type": "stream",
     "text": [
      "['adriana', 'pt_BR', 'data/TTS/speaker-adriana/aec/wav22/aec0001.wav', 'Você quer agendar seus exames?\\n']\n"
     ]
    }
   ],
   "source": [
    "with open(file_path_train) as f:\n",
    "    for line in f.readlines():\n",
    "        print(line.split('\t'))\n",
    "        break"
   ]
  },
  {
   "cell_type": "markdown",
   "id": "0909df89",
   "metadata": {},
   "source": [
    "# Lets process the text to get phones"
   ]
  },
  {
   "cell_type": "code",
   "execution_count": 1,
   "id": "dec2c855",
   "metadata": {},
   "outputs": [],
   "source": [
    "import os\n",
    "def get_phones(txt):\n",
    "    \n",
    "    with open('tmp.txt', \"w\", encoding=\"utf-8\") as f:\n",
    "        f.writelines(txt)\n",
    "    \n",
    "    cmd = '/workspace/tool_language/tool_language -l /workspace/tool_language/libptbr.so.4.6.0 -p /workspace/tool_language/ -i tmp.txt -o tmp_pnh.txt --phonemes -s'\n",
    "    \n",
    "    os.system(cmd)\n",
    "    \n",
    "    with open ('tmp_pnh.txt', \"r\") as f:\n",
    "        lines = f.readlines()\n",
    "    \n",
    "    return lines[0][:-1]"
   ]
  },
  {
   "cell_type": "code",
   "execution_count": 3,
   "id": "bd9204f5",
   "metadata": {},
   "outputs": [
    {
     "data": {
      "text/plain": [
       "\"#p 'ee ss ts ic 'eh un ee zz 'en pp ll uc dz ic ss 'in tt ee zz ic zh ee rr 'aa dd ac pp 'ee ll uc mm 'ee uw 'uu uw ts ic mm uc mm oo dd 'ee ll uc #p\""
      ]
     },
     "execution_count": 3,
     "metadata": {},
     "output_type": "execute_result"
    }
   ],
   "source": [
    "txt = 'Este é um exemplo de síntese gerada pelo meu último modelo.'\n",
    "\n",
    "get_phones(txt)"
   ]
  },
  {
   "cell_type": "code",
   "execution_count": 9,
   "id": "a26d0c83",
   "metadata": {},
   "outputs": [
    {
     "name": "stderr",
     "output_type": "stream",
     "text": [
      "100%|██████████| 61041/61041 [57:01<00:00, 17.84it/s]  \n"
     ]
    },
    {
     "data": {
      "text/plain": [
       "(                                           norm_text  \\\n",
       " 0                   Você quer agendar seus exames?\\n   \n",
       " 1            Você quer agendar exames para quando?\\n   \n",
       " 2  Para quando você gostaria de agendar seus exam...   \n",
       " 3                 Você pode reagendar seus exames.\\n   \n",
       " 4               Gostaria de reagendar seus exames?\\n   \n",
       " \n",
       "                               phonetic_transcription  \\\n",
       " 0  #p vv oo ss 'ee kk 'eh rr aa zh en dd 'aa rf s...   \n",
       " 1  #p vv oo ss 'ee kk 'eh rr aa zh en dd 'aa rr e...   \n",
       " 2  #p pp 'aa rr ac kk uw 'an dd uc vv oo ss 'ee g...   \n",
       " 3  #p vv oo ss 'ee pp 'oh dz ic rx ee aa zh en dd...   \n",
       " 4  #p gg oo ss tt aa rr 'ii ac dz ic rx ee aa zh ...   \n",
       " \n",
       "                                             wav_path  speaker  \n",
       " 0  /l/disk1/awstebas/data/TTS/speaker-adriana/aec...  adriana  \n",
       " 1  /l/disk1/awstebas/data/TTS/speaker-adriana/aec...  adriana  \n",
       " 2  /l/disk1/awstebas/data/TTS/speaker-adriana/aec...  adriana  \n",
       " 3  /l/disk1/awstebas/data/TTS/speaker-adriana/aec...  adriana  \n",
       " 4  /l/disk1/awstebas/data/TTS/speaker-adriana/aec...  adriana  ,\n",
       " (44902, 4))"
      ]
     },
     "execution_count": 9,
     "metadata": {},
     "output_type": "execute_result"
    }
   ],
   "source": [
    "## TRAIN PROCESS\n",
    "\n",
    "from tqdm import tqdm\n",
    "import pandas as pd\n",
    "\n",
    "wavs_p = []\n",
    "speaker_p = []\n",
    "text_p = []\n",
    "phones_p = []\n",
    "\n",
    "tts_data_path = '/l/disk1/awstebas/'\n",
    "\n",
    "with open(file_path_train) as f:\n",
    "    for line in tqdm(f.readlines()):\n",
    "        \n",
    "        splitted = line.split('\\t')\n",
    "        \n",
    "        if(splitted[1] == 'pt_BR'):\n",
    "        \n",
    "            w_path = os.path.join(tts_data_path,splitted[2])\n",
    "            if(os.path.isfile(w_path)):\n",
    "                wavs_p.append(w_path) \n",
    "            else:\n",
    "                print(f'ERROR! {w_path} does not exit!')\n",
    "                break\n",
    "            speaker_p.append(splitted[0])\n",
    "\n",
    "            text_p.append(splitted[-1])\n",
    "            phones_p.append(get_phones(splitted[-1]))\n",
    "            \n",
    "df_train = pd.DataFrame({'norm_text': text_p,\n",
    "                   'phonetic_transcription': phones_p,\n",
    "                   'wav_path': wavs_p,\n",
    "                   'speaker': speaker_p})\n",
    "\n",
    "df_train.head(), df_train.shape"
   ]
  },
  {
   "cell_type": "code",
   "execution_count": 10,
   "id": "918a631a",
   "metadata": {},
   "outputs": [
    {
     "name": "stderr",
     "output_type": "stream",
     "text": [
      "100%|██████████| 400/400 [00:24<00:00, 16.66it/s]\n"
     ]
    },
    {
     "data": {
      "text/html": [
       "<div>\n",
       "<style scoped>\n",
       "    .dataframe tbody tr th:only-of-type {\n",
       "        vertical-align: middle;\n",
       "    }\n",
       "\n",
       "    .dataframe tbody tr th {\n",
       "        vertical-align: top;\n",
       "    }\n",
       "\n",
       "    .dataframe thead th {\n",
       "        text-align: right;\n",
       "    }\n",
       "</style>\n",
       "<table border=\"1\" class=\"dataframe\">\n",
       "  <thead>\n",
       "    <tr style=\"text-align: right;\">\n",
       "      <th></th>\n",
       "      <th>norm_text</th>\n",
       "      <th>phonetic_transcription</th>\n",
       "      <th>wav_path</th>\n",
       "      <th>speaker</th>\n",
       "    </tr>\n",
       "  </thead>\n",
       "  <tbody>\n",
       "    <tr>\n",
       "      <th>0</th>\n",
       "      <td>E sim chegar ao local, se identificar, e parti...</td>\n",
       "      <td>#p ic ss 'in sh ee gg 'aa rr 'aa uw ll oo kk '...</td>\n",
       "      <td>/l/disk1/awstebas/data/TTS/speaker-adriana/riq...</td>\n",
       "      <td>adriana</td>\n",
       "    </tr>\n",
       "    <tr>\n",
       "      <th>1</th>\n",
       "      <td>Tem que ser o maior dos últimos cinco anos.\\n</td>\n",
       "      <td>#p tt 'en kk ic ss 'ee rr uc mm aa ij 'oh rf d...</td>\n",
       "      <td>/l/disk1/awstebas/data/TTS/speaker-adriana/riq...</td>\n",
       "      <td>adriana</td>\n",
       "    </tr>\n",
       "    <tr>\n",
       "      <th>2</th>\n",
       "      <td>No campus da PUC,  veio ao chão no domingo.\\n</td>\n",
       "      <td>#p nn uc kk 'an pp uc zz dd ac pp 'uu kk ic #c...</td>\n",
       "      <td>/l/disk1/awstebas/data/TTS/speaker-adriana/riq...</td>\n",
       "      <td>adriana</td>\n",
       "    </tr>\n",
       "    <tr>\n",
       "      <th>3</th>\n",
       "      <td>Ouvir o autor sobre o ensino de adultos.\\n</td>\n",
       "      <td>#p oo uw vv 'ii rr uc aa uw tt 'oo rf ss 'oo b...</td>\n",
       "      <td>/l/disk1/awstebas/data/TTS/speaker-adriana/riq...</td>\n",
       "      <td>adriana</td>\n",
       "    </tr>\n",
       "    <tr>\n",
       "      <th>4</th>\n",
       "      <td>Quadrilha de Higienópolis, com veículos envolv...</td>\n",
       "      <td>#p kk uw aa dd rd 'ii lh ac dz ic ii zh ii ee ...</td>\n",
       "      <td>/l/disk1/awstebas/data/TTS/speaker-adriana/riq...</td>\n",
       "      <td>adriana</td>\n",
       "    </tr>\n",
       "  </tbody>\n",
       "</table>\n",
       "</div>"
      ],
      "text/plain": [
       "                                           norm_text  \\\n",
       "0  E sim chegar ao local, se identificar, e parti...   \n",
       "1      Tem que ser o maior dos últimos cinco anos.\\n   \n",
       "2      No campus da PUC,  veio ao chão no domingo.\\n   \n",
       "3         Ouvir o autor sobre o ensino de adultos.\\n   \n",
       "4  Quadrilha de Higienópolis, com veículos envolv...   \n",
       "\n",
       "                              phonetic_transcription  \\\n",
       "0  #p ic ss 'in sh ee gg 'aa rr 'aa uw ll oo kk '...   \n",
       "1  #p tt 'en kk ic ss 'ee rr uc mm aa ij 'oh rf d...   \n",
       "2  #p nn uc kk 'an pp uc zz dd ac pp 'uu kk ic #c...   \n",
       "3  #p oo uw vv 'ii rr uc aa uw tt 'oo rf ss 'oo b...   \n",
       "4  #p kk uw aa dd rd 'ii lh ac dz ic ii zh ii ee ...   \n",
       "\n",
       "                                            wav_path  speaker  \n",
       "0  /l/disk1/awstebas/data/TTS/speaker-adriana/riq...  adriana  \n",
       "1  /l/disk1/awstebas/data/TTS/speaker-adriana/riq...  adriana  \n",
       "2  /l/disk1/awstebas/data/TTS/speaker-adriana/riq...  adriana  \n",
       "3  /l/disk1/awstebas/data/TTS/speaker-adriana/riq...  adriana  \n",
       "4  /l/disk1/awstebas/data/TTS/speaker-adriana/riq...  adriana  "
      ]
     },
     "execution_count": 10,
     "metadata": {},
     "output_type": "execute_result"
    }
   ],
   "source": [
    "## VAL PROCESS\n",
    "\n",
    "wavs_p = []\n",
    "speaker_p = []\n",
    "text_p = []\n",
    "phones_p = []\n",
    "\n",
    "tts_data_path = '/l/disk1/awstebas/'\n",
    "\n",
    "with open(file_path_val) as f:\n",
    "    for line in tqdm(f.readlines()):\n",
    "        \n",
    "        splitted = line.split('\\t')\n",
    "        \n",
    "        if(splitted[1] == 'pt_BR'):\n",
    "            \n",
    "            w_path = os.path.join(tts_data_path,splitted[2])\n",
    "            if(os.path.isfile(w_path)):\n",
    "                wavs_p.append(w_path) \n",
    "            else:\n",
    "                print(f'ERROR! {w_path} does not exit!')\n",
    "                break\n",
    "            speaker_p.append(splitted[0])\n",
    "\n",
    "            text_p.append(splitted[-1])\n",
    "            phones_p.append(get_phones(splitted[-1]))\n",
    "\n",
    "df_val = pd.DataFrame({'norm_text': text_p,\n",
    "                   'phonetic_transcription': phones_p,\n",
    "                   'wav_path': wavs_p,\n",
    "                   'speaker': speaker_p})\n",
    "\n",
    "df_val.head()"
   ]
  },
  {
   "cell_type": "code",
   "execution_count": 11,
   "id": "ef536354",
   "metadata": {
    "scrolled": true
   },
   "outputs": [
    {
     "name": "stderr",
     "output_type": "stream",
     "text": [
      "100%|██████████| 200/200 [00:11<00:00, 16.89it/s]\n"
     ]
    },
    {
     "data": {
      "text/html": [
       "<div>\n",
       "<style scoped>\n",
       "    .dataframe tbody tr th:only-of-type {\n",
       "        vertical-align: middle;\n",
       "    }\n",
       "\n",
       "    .dataframe tbody tr th {\n",
       "        vertical-align: top;\n",
       "    }\n",
       "\n",
       "    .dataframe thead th {\n",
       "        text-align: right;\n",
       "    }\n",
       "</style>\n",
       "<table border=\"1\" class=\"dataframe\">\n",
       "  <thead>\n",
       "    <tr style=\"text-align: right;\">\n",
       "      <th></th>\n",
       "      <th>norm_text</th>\n",
       "      <th>phonetic_transcription</th>\n",
       "      <th>wav_path</th>\n",
       "      <th>speaker</th>\n",
       "    </tr>\n",
       "  </thead>\n",
       "  <tbody>\n",
       "    <tr>\n",
       "      <th>0</th>\n",
       "      <td>Conhecia o trânsito naquela altura da pista.\\n</td>\n",
       "      <td>#p kk on nh ee ss 'ii ac uc tt rd 'an zz ic tt...</td>\n",
       "      <td>/l/disk1/awstebas/data/TTS/speaker-adriana/riq...</td>\n",
       "      <td>adriana</td>\n",
       "    </tr>\n",
       "    <tr>\n",
       "      <th>1</th>\n",
       "      <td>Sua leitura do centro cultural deste nosso paí...</td>\n",
       "      <td>#p ss 'uu ac ll ee ij tt 'uu rr ac dd uc ss 'e...</td>\n",
       "      <td>/l/disk1/awstebas/data/TTS/speaker-adriana/riq...</td>\n",
       "      <td>adriana</td>\n",
       "    </tr>\n",
       "    <tr>\n",
       "      <th>2</th>\n",
       "      <td>Ao vivo às quartas e no sábado, há troca de al...</td>\n",
       "      <td>#p 'aa uw vv 'ii vv uc 'aa ss kk uw 'aa rf tt ...</td>\n",
       "      <td>/l/disk1/awstebas/data/TTS/speaker-adriana/riq...</td>\n",
       "      <td>adriana</td>\n",
       "    </tr>\n",
       "    <tr>\n",
       "      <th>3</th>\n",
       "      <td>Lugar na região para quem for sócio da empresa.\\n</td>\n",
       "      <td>#p ll uu gg 'aa rf nn ac rx ee zh ii 'an wn pp...</td>\n",
       "      <td>/l/disk1/awstebas/data/TTS/speaker-adriana/riq...</td>\n",
       "      <td>adriana</td>\n",
       "    </tr>\n",
       "    <tr>\n",
       "      <th>4</th>\n",
       "      <td>Compania lidera pesquisas feita até as oito e ...</td>\n",
       "      <td>#p kk on pp an nn 'ii ac ll ii dd 'eh rr ac pp...</td>\n",
       "      <td>/l/disk1/awstebas/data/TTS/speaker-adriana/riq...</td>\n",
       "      <td>adriana</td>\n",
       "    </tr>\n",
       "  </tbody>\n",
       "</table>\n",
       "</div>"
      ],
      "text/plain": [
       "                                           norm_text  \\\n",
       "0     Conhecia o trânsito naquela altura da pista.\\n   \n",
       "1  Sua leitura do centro cultural deste nosso paí...   \n",
       "2  Ao vivo às quartas e no sábado, há troca de al...   \n",
       "3  Lugar na região para quem for sócio da empresa.\\n   \n",
       "4  Compania lidera pesquisas feita até as oito e ...   \n",
       "\n",
       "                              phonetic_transcription  \\\n",
       "0  #p kk on nh ee ss 'ii ac uc tt rd 'an zz ic tt...   \n",
       "1  #p ss 'uu ac ll ee ij tt 'uu rr ac dd uc ss 'e...   \n",
       "2  #p 'aa uw vv 'ii vv uc 'aa ss kk uw 'aa rf tt ...   \n",
       "3  #p ll uu gg 'aa rf nn ac rx ee zh ii 'an wn pp...   \n",
       "4  #p kk on pp an nn 'ii ac ll ii dd 'eh rr ac pp...   \n",
       "\n",
       "                                            wav_path  speaker  \n",
       "0  /l/disk1/awstebas/data/TTS/speaker-adriana/riq...  adriana  \n",
       "1  /l/disk1/awstebas/data/TTS/speaker-adriana/riq...  adriana  \n",
       "2  /l/disk1/awstebas/data/TTS/speaker-adriana/riq...  adriana  \n",
       "3  /l/disk1/awstebas/data/TTS/speaker-adriana/riq...  adriana  \n",
       "4  /l/disk1/awstebas/data/TTS/speaker-adriana/riq...  adriana  "
      ]
     },
     "execution_count": 11,
     "metadata": {},
     "output_type": "execute_result"
    }
   ],
   "source": [
    "## TEST PROCESS\n",
    "\n",
    "wavs_p = []\n",
    "speaker_p = []\n",
    "text_p = []\n",
    "phones_p = []\n",
    "\n",
    "tts_data_path = '/l/disk1/awstebas/'\n",
    "\n",
    "with open(file_path_test) as f:\n",
    "    for line in tqdm(f.readlines()):\n",
    "        \n",
    "        splitted = line.split('\\t')\n",
    "        \n",
    "        if(splitted[1] == 'pt_BR'):\n",
    "        \n",
    "            w_path = os.path.join(tts_data_path,splitted[2])\n",
    "            if(os.path.isfile(w_path)):\n",
    "                wavs_p.append(w_path) \n",
    "            else:\n",
    "                print(f'ERROR! {w_path} does not exit!')\n",
    "                break\n",
    "            speaker_p.append(splitted[0])\n",
    "\n",
    "            text_p.append(splitted[-1])\n",
    "            phones_p.append(get_phones(splitted[-1]))\n",
    "\n",
    "df_test = pd.DataFrame({'norm_text': text_p,\n",
    "                   'phonetic_transcription': phones_p,\n",
    "                   'wav_path': wavs_p,\n",
    "                   'speaker': speaker_p})\n",
    "\n",
    "df_test.head()"
   ]
  },
  {
   "cell_type": "markdown",
   "id": "758c68bd",
   "metadata": {},
   "source": [
    "# REMOVING STYLISH DATA"
   ]
  },
  {
   "cell_type": "code",
   "execution_count": 30,
   "id": "1895a191",
   "metadata": {},
   "outputs": [],
   "source": [
    "def get_rec(wpath):\n",
    "    return wpath.split('/')[7]\n",
    "\n",
    "recs = []\n",
    "for w in df_train.wav_path:\n",
    "    recs.append(get_rec(w))\n",
    "df_train['rec'] = recs\n",
    "\n",
    "recs = []\n",
    "for w in df_val.wav_path:\n",
    "    recs.append(get_rec(w))\n",
    "df_val['rec'] = recs\n",
    "\n",
    "recs = []\n",
    "for w in df_test.wav_path:\n",
    "    recs.append(get_rec(w))\n",
    "df_test['rec'] = recs"
   ]
  },
  {
   "cell_type": "code",
   "execution_count": 34,
   "id": "79003f35",
   "metadata": {},
   "outputs": [
    {
     "data": {
      "text/plain": [
       "array(['riqueza_fonetica', 'textofala', 'rf_selecionadas'], dtype=object)"
      ]
     },
     "execution_count": 34,
     "metadata": {},
     "output_type": "execute_result"
    }
   ],
   "source": [
    "df_test['rec'].unique() # Only in train we have style speech"
   ]
  },
  {
   "cell_type": "code",
   "execution_count": 35,
   "id": "9f9b8486",
   "metadata": {},
   "outputs": [
    {
     "data": {
      "text/plain": [
       "['eps_acolhedor_aco',\n",
       " 'eps_acolhedor_ani',\n",
       " 'eps_acolhedor_gen',\n",
       " 'eps_acolhedor_rf',\n",
       " 'eps_animado_aco',\n",
       " 'eps_animado_ani',\n",
       " 'eps_animado_gen',\n",
       " 'eps_animado_rf',\n",
       " 'eps_neutro_aco',\n",
       " 'eps_neutro_ani',\n",
       " 'eps_neutro_gen',\n",
       " 'eps_neutro_rf',\n",
       " 'eps_rispido_aco',\n",
       " 'eps_rispido_acorf',\n",
       " 'eps_rispido_gen',\n",
       " 'eps_rispido_ris']"
      ]
     },
     "execution_count": 35,
     "metadata": {},
     "output_type": "execute_result"
    }
   ],
   "source": [
    "to_exclude = []\n",
    "\n",
    "for r in df_train.rec.unique():\n",
    "    if('eps_' in r):\n",
    "        to_exclude.append(r)\n",
    "to_exclude"
   ]
  },
  {
   "cell_type": "code",
   "execution_count": 39,
   "id": "4ca3daa8",
   "metadata": {},
   "outputs": [
    {
     "data": {
      "text/plain": [
       "((44902, 6), (39722, 6), (5180, 6))"
      ]
     },
     "execution_count": 39,
     "metadata": {},
     "output_type": "execute_result"
    }
   ],
   "source": [
    "df_train.shape, df_train[~df_train['rec'].isin(to_exclude)].shape, df_train[df_train['rec'].isin(to_exclude)].shape"
   ]
  },
  {
   "cell_type": "code",
   "execution_count": 40,
   "id": "b89f5c80",
   "metadata": {},
   "outputs": [],
   "source": [
    "## FILTERING TRAIN\n",
    "df_train = df_train[~df_train['rec'].isin(to_exclude)]"
   ]
  },
  {
   "cell_type": "code",
   "execution_count": null,
   "id": "a5471d48",
   "metadata": {},
   "outputs": [],
   "source": []
  },
  {
   "cell_type": "markdown",
   "id": "66bacec5",
   "metadata": {},
   "source": [
    "# Checking volumetries"
   ]
  },
  {
   "cell_type": "code",
   "execution_count": 41,
   "id": "34c71a3d",
   "metadata": {},
   "outputs": [],
   "source": [
    "import librosa\n",
    "\n",
    "def get_durations(wpath):\n",
    "    y, sr = librosa.load(wpath, sr = None)\n",
    "    return len(y)/sr"
   ]
  },
  {
   "cell_type": "code",
   "execution_count": 42,
   "id": "9232ce22",
   "metadata": {},
   "outputs": [
    {
     "name": "stderr",
     "output_type": "stream",
     "text": [
      "<ipython-input-42-49c4d5cd881d>:4: SettingWithCopyWarning: \n",
      "A value is trying to be set on a copy of a slice from a DataFrame.\n",
      "Try using .loc[row_indexer,col_indexer] = value instead\n",
      "\n",
      "See the caveats in the documentation: https://pandas.pydata.org/pandas-docs/stable/user_guide/indexing.html#returning-a-view-versus-a-copy\n",
      "  df_train['durs'] = durs\n"
     ]
    }
   ],
   "source": [
    "durs = []\n",
    "for w in df_train['wav_path']:\n",
    "    durs.append(get_durations(w))\n",
    "df_train['durs'] = durs\n",
    "\n",
    "durs = []\n",
    "for w in df_val['wav_path']:\n",
    "    durs.append(get_durations(w))\n",
    "df_val['durs'] = durs\n",
    "\n",
    "durs = []\n",
    "for w in df_test['wav_path']:\n",
    "    durs.append(get_durations(w))\n",
    "df_test['durs'] = durs"
   ]
  },
  {
   "cell_type": "code",
   "execution_count": 43,
   "id": "52a60c04",
   "metadata": {},
   "outputs": [
    {
     "data": {
      "text/plain": [
       "(38.74586798941799, 0.35842800453514745, 0.17809230284706473)"
      ]
     },
     "execution_count": 43,
     "metadata": {},
     "output_type": "execute_result"
    }
   ],
   "source": [
    "df_train.durs.sum()/3600, df_val.durs.sum()/3600, df_test.durs.sum()/3600"
   ]
  },
  {
   "cell_type": "code",
   "execution_count": 44,
   "id": "2b637fc0",
   "metadata": {},
   "outputs": [
    {
     "data": {
      "text/html": [
       "<div>\n",
       "<style scoped>\n",
       "    .dataframe tbody tr th:only-of-type {\n",
       "        vertical-align: middle;\n",
       "    }\n",
       "\n",
       "    .dataframe tbody tr th {\n",
       "        vertical-align: top;\n",
       "    }\n",
       "\n",
       "    .dataframe thead th {\n",
       "        text-align: right;\n",
       "    }\n",
       "</style>\n",
       "<table border=\"1\" class=\"dataframe\">\n",
       "  <thead>\n",
       "    <tr style=\"text-align: right;\">\n",
       "      <th></th>\n",
       "      <th>durs</th>\n",
       "    </tr>\n",
       "    <tr>\n",
       "      <th>speaker</th>\n",
       "      <th></th>\n",
       "    </tr>\n",
       "  </thead>\n",
       "  <tbody>\n",
       "    <tr>\n",
       "      <th>adriana</th>\n",
       "      <td>10.605199</td>\n",
       "    </tr>\n",
       "    <tr>\n",
       "      <th>arianne</th>\n",
       "      <td>1.078933</td>\n",
       "    </tr>\n",
       "    <tr>\n",
       "      <th>chiquinho</th>\n",
       "      <td>4.551724</td>\n",
       "    </tr>\n",
       "    <tr>\n",
       "      <th>claudia</th>\n",
       "      <td>8.934560</td>\n",
       "    </tr>\n",
       "    <tr>\n",
       "      <th>edgard</th>\n",
       "      <td>6.348841</td>\n",
       "    </tr>\n",
       "    <tr>\n",
       "      <th>rosana</th>\n",
       "      <td>7.226612</td>\n",
       "    </tr>\n",
       "  </tbody>\n",
       "</table>\n",
       "</div>"
      ],
      "text/plain": [
       "                durs\n",
       "speaker             \n",
       "adriana    10.605199\n",
       "arianne     1.078933\n",
       "chiquinho   4.551724\n",
       "claudia     8.934560\n",
       "edgard      6.348841\n",
       "rosana      7.226612"
      ]
     },
     "execution_count": 44,
     "metadata": {},
     "output_type": "execute_result"
    }
   ],
   "source": [
    "# df_train per speaker\n",
    "df_train.groupby('speaker').agg({'durs': 'sum'})/3600"
   ]
  },
  {
   "cell_type": "code",
   "execution_count": 45,
   "id": "9a73d797",
   "metadata": {},
   "outputs": [
    {
     "data": {
      "text/html": [
       "<div>\n",
       "<style scoped>\n",
       "    .dataframe tbody tr th:only-of-type {\n",
       "        vertical-align: middle;\n",
       "    }\n",
       "\n",
       "    .dataframe tbody tr th {\n",
       "        vertical-align: top;\n",
       "    }\n",
       "\n",
       "    .dataframe thead th {\n",
       "        text-align: right;\n",
       "    }\n",
       "</style>\n",
       "<table border=\"1\" class=\"dataframe\">\n",
       "  <thead>\n",
       "    <tr style=\"text-align: right;\">\n",
       "      <th></th>\n",
       "      <th>durs</th>\n",
       "    </tr>\n",
       "    <tr>\n",
       "      <th>speaker</th>\n",
       "      <th></th>\n",
       "    </tr>\n",
       "  </thead>\n",
       "  <tbody>\n",
       "    <tr>\n",
       "      <th>adriana</th>\n",
       "      <td>0.109410</td>\n",
       "    </tr>\n",
       "    <tr>\n",
       "      <th>arianne</th>\n",
       "      <td>0.006608</td>\n",
       "    </tr>\n",
       "    <tr>\n",
       "      <th>chiquinho</th>\n",
       "      <td>0.055547</td>\n",
       "    </tr>\n",
       "    <tr>\n",
       "      <th>claudia</th>\n",
       "      <td>0.083987</td>\n",
       "    </tr>\n",
       "    <tr>\n",
       "      <th>edgard</th>\n",
       "      <td>0.049193</td>\n",
       "    </tr>\n",
       "    <tr>\n",
       "      <th>rosana</th>\n",
       "      <td>0.053682</td>\n",
       "    </tr>\n",
       "  </tbody>\n",
       "</table>\n",
       "</div>"
      ],
      "text/plain": [
       "               durs\n",
       "speaker            \n",
       "adriana    0.109410\n",
       "arianne    0.006608\n",
       "chiquinho  0.055547\n",
       "claudia    0.083987\n",
       "edgard     0.049193\n",
       "rosana     0.053682"
      ]
     },
     "execution_count": 45,
     "metadata": {},
     "output_type": "execute_result"
    }
   ],
   "source": [
    "# df_val per speaker\n",
    "df_val.groupby('speaker').agg({'durs': 'sum'})/3600"
   ]
  },
  {
   "cell_type": "code",
   "execution_count": 46,
   "id": "18aa5aa6",
   "metadata": {},
   "outputs": [
    {
     "data": {
      "text/html": [
       "<div>\n",
       "<style scoped>\n",
       "    .dataframe tbody tr th:only-of-type {\n",
       "        vertical-align: middle;\n",
       "    }\n",
       "\n",
       "    .dataframe tbody tr th {\n",
       "        vertical-align: top;\n",
       "    }\n",
       "\n",
       "    .dataframe thead th {\n",
       "        text-align: right;\n",
       "    }\n",
       "</style>\n",
       "<table border=\"1\" class=\"dataframe\">\n",
       "  <thead>\n",
       "    <tr style=\"text-align: right;\">\n",
       "      <th></th>\n",
       "      <th>durs</th>\n",
       "    </tr>\n",
       "    <tr>\n",
       "      <th>speaker</th>\n",
       "      <th></th>\n",
       "    </tr>\n",
       "  </thead>\n",
       "  <tbody>\n",
       "    <tr>\n",
       "      <th>adriana</th>\n",
       "      <td>0.050233</td>\n",
       "    </tr>\n",
       "    <tr>\n",
       "      <th>arianne</th>\n",
       "      <td>0.002969</td>\n",
       "    </tr>\n",
       "    <tr>\n",
       "      <th>chiquinho</th>\n",
       "      <td>0.027331</td>\n",
       "    </tr>\n",
       "    <tr>\n",
       "      <th>claudia</th>\n",
       "      <td>0.043346</td>\n",
       "    </tr>\n",
       "    <tr>\n",
       "      <th>edgard</th>\n",
       "      <td>0.028027</td>\n",
       "    </tr>\n",
       "    <tr>\n",
       "      <th>rosana</th>\n",
       "      <td>0.026187</td>\n",
       "    </tr>\n",
       "  </tbody>\n",
       "</table>\n",
       "</div>"
      ],
      "text/plain": [
       "               durs\n",
       "speaker            \n",
       "adriana    0.050233\n",
       "arianne    0.002969\n",
       "chiquinho  0.027331\n",
       "claudia    0.043346\n",
       "edgard     0.028027\n",
       "rosana     0.026187"
      ]
     },
     "execution_count": 46,
     "metadata": {},
     "output_type": "execute_result"
    }
   ],
   "source": [
    "# df_test per speaker\n",
    "df_test.groupby('speaker').agg({'durs': 'sum'})/3600"
   ]
  },
  {
   "cell_type": "markdown",
   "id": "0edfb3f5",
   "metadata": {},
   "source": [
    "# Saving metafiles"
   ]
  },
  {
   "cell_type": "code",
   "execution_count": 47,
   "id": "84964d8b",
   "metadata": {},
   "outputs": [],
   "source": [
    "# Finally, lets save files as meta_data format for cpqd_read, which use ';' as separator\n",
    "\n",
    "cols = ['phonetic_transcription', 'wav_path', 'speaker']\n",
    "\n",
    "df_train[cols].to_csv('universal_cpqd_train.csv', index = False, sep = ';', encoding='utf-8')\n",
    "df_val[cols].to_csv('universal_cpqd_val.csv', index = False, sep=';', encoding = 'utf-8')\n",
    "df_test[cols].to_csv('universal_cpqd_test.csv', index = False, sep=';', encoding = 'utf-8')"
   ]
  },
  {
   "cell_type": "markdown",
   "id": "5835b2c8",
   "metadata": {},
   "source": [
    "# Just checking why adriana has so much data"
   ]
  },
  {
   "cell_type": "code",
   "execution_count": 23,
   "id": "8e741caf",
   "metadata": {},
   "outputs": [],
   "source": [
    "def get_rec(wpath):\n",
    "    return wpath.split('/')[7]"
   ]
  },
  {
   "cell_type": "code",
   "execution_count": 24,
   "id": "389e3579",
   "metadata": {},
   "outputs": [],
   "source": [
    "recs = []\n",
    "\n",
    "for w in df_train.wav_path:\n",
    "    recs.append(get_rec(w))"
   ]
  },
  {
   "cell_type": "code",
   "execution_count": 28,
   "id": "da79b2a4",
   "metadata": {},
   "outputs": [
    {
     "data": {
      "text/plain": [
       "array(['aec', 'akiva', 'akiva_fidelizacao', 'akiva_portabilidade',\n",
       "       'aplicacao', 'atendimento', 'avm', 'avm_custom', 'bradesco',\n",
       "       'bradesco_bia', 'bradesco_ura', 'callcenter', 'chat_covid',\n",
       "       'comemorativas', 'datas', 'digitos', 'dnk_expr',\n",
       "       'elev_dentalprime', 'emocao', 'empresas', 'enderecos',\n",
       "       'eps_acolhedor_aco', 'eps_acolhedor_ani', 'eps_acolhedor_gen',\n",
       "       'eps_acolhedor_rf', 'eps_animado_aco', 'eps_animado_ani',\n",
       "       'eps_animado_gen', 'eps_animado_rf', 'eps_neutro_aco',\n",
       "       'eps_neutro_ani', 'eps_neutro_gen', 'eps_neutro_rf',\n",
       "       'eps_rispido_aco', 'eps_rispido_acorf', 'eps_rispido_gen',\n",
       "       'eps_rispido_ris', 'freqpalavras', 'horas', 'ibm', 'ibm_fastshop',\n",
       "       'ibm_tim', 'interrogativas', 'interrogativas_ou',\n",
       "       'interrogativas_qu', 'interrogativas_sn', 'invenit',\n",
       "       'marketing_cpqd', 'neutro', 'nomes', 'nomes_freq', 'nomes_int',\n",
       "       'numeros', 'pg_amc', 'pg_americo', 'pg_avon', 'pg_demoKami_v2',\n",
       "       'pg_demoPrioritario', 'pg_flex', 'pg_generico',\n",
       "       'pg_interrogativas', 'pg_localcred', 'pg_meucartao', 'pg_renner',\n",
       "       'pg_riachuelo', 'pg_riachuelo_expressivo', 'pg_vivo', 'quantias',\n",
       "       'renaut', 'riqueza_fonetica', 'robbu', 'saudacoes', 'siglas',\n",
       "       'sulamerica_auto', 'sulamerica_saude', 'sulamerica_vida',\n",
       "       'textofala', 'vc', 'veiculos', 'aleatorio',\n",
       "       'bradesco_conteudoInformacional', 'bradesco_erroTransferencia',\n",
       "       'sessao_inicial', 'flex_contact', 'ibm_charlesMilho_expressivo',\n",
       "       'ibm_charlesMilho_neutro', 'ibm_charlesMilho_prompt', 'ibm_elo',\n",
       "       'ibm_vli', 'textofala_acelerado', 'tim', 'enderecos_revisados',\n",
       "       'exclamacao', 'freq_palavras', 'freqpalavras_revisados',\n",
       "       'genericas', 'interrog_artificiais', 'interrog_curta_1ent',\n",
       "       'interrog_curta_2ent', 'interrog_naturais', 'interrogacao_1ent',\n",
       "       'interrogacao_2ent', 'literatura', 'nomes_isolados',\n",
       "       'nomes_revisados', 'ordinais', 'rf_selecionadas',\n",
       "       'freqpalavras_rev', 'interrogativas_mix', 'bia_googleAssistant',\n",
       "       'botina', 'bradesco_baseInformacional', 'bradesco_site_2017',\n",
       "       'complemento', 'contactcenter', 'demo_showroom', 'dnk',\n",
       "       'mega_giga', 'mutant', 'paschoalotto', 'pg', 'porcentagem', 'zanc'],\n",
       "      dtype=object)"
      ]
     },
     "execution_count": 28,
     "metadata": {},
     "output_type": "execute_result"
    }
   ],
   "source": [
    "pd.DataFrame({'recs': recs}).recs.unique()"
   ]
  },
  {
   "cell_type": "code",
   "execution_count": null,
   "id": "64c1a5bc",
   "metadata": {},
   "outputs": [],
   "source": []
  }
 ],
 "metadata": {
  "kernelspec": {
   "display_name": "Python 3",
   "language": "python",
   "name": "python3"
  },
  "language_info": {
   "codemirror_mode": {
    "name": "ipython",
    "version": 3
   },
   "file_extension": ".py",
   "mimetype": "text/x-python",
   "name": "python",
   "nbconvert_exporter": "python",
   "pygments_lexer": "ipython3",
   "version": "3.8.3"
  }
 },
 "nbformat": 4,
 "nbformat_minor": 5
}
