{
 "cells": [
  {
   "cell_type": "code",
   "execution_count": 1,
   "metadata": {},
   "outputs": [],
   "source": [
    "import pandas as pd\n",
    "import numpy as np"
   ]
  },
  {
   "cell_type": "code",
   "execution_count": 2,
   "metadata": {},
   "outputs": [],
   "source": [
    "train = pd.read_csv('cpqd_train.csv', encoding='utf-8', delimiter = ';')\n",
    "val = pd.read_csv('cpqd_val.csv', encoding='utf-8', delimiter = ';')\n",
    "test = pd.read_csv('cpqd_test.csv', encoding='utf-8', delimiter = ';')"
   ]
  },
  {
   "cell_type": "code",
   "execution_count": 3,
   "metadata": {},
   "outputs": [
    {
     "data": {
      "text/html": [
       "<div>\n",
       "<style scoped>\n",
       "    .dataframe tbody tr th:only-of-type {\n",
       "        vertical-align: middle;\n",
       "    }\n",
       "\n",
       "    .dataframe tbody tr th {\n",
       "        vertical-align: top;\n",
       "    }\n",
       "\n",
       "    .dataframe thead th {\n",
       "        text-align: right;\n",
       "    }\n",
       "</style>\n",
       "<table border=\"1\" class=\"dataframe\">\n",
       "  <thead>\n",
       "    <tr style=\"text-align: right;\">\n",
       "      <th></th>\n",
       "      <th>phonetic_transcription</th>\n",
       "      <th>wav_path</th>\n",
       "      <th>speaker</th>\n",
       "    </tr>\n",
       "  </thead>\n",
       "  <tbody>\n",
       "    <tr>\n",
       "      <th>0</th>\n",
       "      <td>#p ee ss tt 'eh rr ii 'uu kk ac ii gg 'uu sh i...</td>\n",
       "      <td>/l/disk1/awstebas/data/TTS/speaker-adriana/nom...</td>\n",
       "      <td>adriana</td>\n",
       "    </tr>\n",
       "    <tr>\n",
       "      <th>1</th>\n",
       "      <td>#p 'uu uw ts ic mm uc pp rd 'aa zz uc pp 'aa r...</td>\n",
       "      <td>/l/disk1/awstebas/data/TTS/speaker-adriana/pg_...</td>\n",
       "      <td>adriana</td>\n",
       "    </tr>\n",
       "    <tr>\n",
       "      <th>2</th>\n",
       "      <td>#p 'oh lh ac 'ee uw 'uu zz uc mm 'aa ij zz aa ...</td>\n",
       "      <td>/l/disk1/awstebas/data/TTS/speaker-adriana/cal...</td>\n",
       "      <td>adriana</td>\n",
       "    </tr>\n",
       "    <tr>\n",
       "      <th>3</th>\n",
       "      <td>#p ac ss en tt rd 'aa uw dz ic aa tt en dz ii ...</td>\n",
       "      <td>/l/disk1/awstebas/data/TTS/speaker-adriana/pg_...</td>\n",
       "      <td>adriana</td>\n",
       "    </tr>\n",
       "    <tr>\n",
       "      <th>4</th>\n",
       "      <td>#p aa pp ll 'ii kk ac ic rx ee zz gg 'aa tt ac...</td>\n",
       "      <td>/l/disk1/awstebas/data/TTS/speaker-adriana/bra...</td>\n",
       "      <td>adriana</td>\n",
       "    </tr>\n",
       "  </tbody>\n",
       "</table>\n",
       "</div>"
      ],
      "text/plain": [
       "                              phonetic_transcription  \\\n",
       "0  #p ee ss tt 'eh rr ii 'uu kk ac ii gg 'uu sh i...   \n",
       "1  #p 'uu uw ts ic mm uc pp rd 'aa zz uc pp 'aa r...   \n",
       "2  #p 'oh lh ac 'ee uw 'uu zz uc mm 'aa ij zz aa ...   \n",
       "3  #p ac ss en tt rd 'aa uw dz ic aa tt en dz ii ...   \n",
       "4  #p aa pp ll 'ii kk ac ic rx ee zz gg 'aa tt ac...   \n",
       "\n",
       "                                            wav_path  speaker  \n",
       "0  /l/disk1/awstebas/data/TTS/speaker-adriana/nom...  adriana  \n",
       "1  /l/disk1/awstebas/data/TTS/speaker-adriana/pg_...  adriana  \n",
       "2  /l/disk1/awstebas/data/TTS/speaker-adriana/cal...  adriana  \n",
       "3  /l/disk1/awstebas/data/TTS/speaker-adriana/pg_...  adriana  \n",
       "4  /l/disk1/awstebas/data/TTS/speaker-adriana/bra...  adriana  "
      ]
     },
     "execution_count": 3,
     "metadata": {},
     "output_type": "execute_result"
    }
   ],
   "source": [
    "train.head()"
   ]
  },
  {
   "cell_type": "code",
   "execution_count": 4,
   "metadata": {},
   "outputs": [],
   "source": [
    "# Generating style array\n",
    "\n",
    "def wav2style(w, diff_neutral = False):\n",
    "    if('eps_animado' in w):\n",
    "        return 'animado'\n",
    "    elif('eps_acolhedor' in w):\n",
    "        return 'acolhedor'\n",
    "    elif('eps_rispido' in w):\n",
    "        return 'rispido'\n",
    "    elif('eps_neutro' in w):\n",
    "        return 'neutro'\n",
    "    else:\n",
    "        if(diff_neutral):\n",
    "            return 'neutro2'\n",
    "        else: \n",
    "            return 'neutro'\n",
    "        \n",
    "style_array_train = np.array([wav2style(w, True) for w in train.wav_path])\n",
    "style_array_val = np.array([wav2style(w, True) for w in val.wav_path])\n",
    "style_array_test = np.array([wav2style(w, True) for w in test.wav_path])"
   ]
  },
  {
   "cell_type": "code",
   "execution_count": 5,
   "metadata": {},
   "outputs": [
    {
     "name": "stdout",
     "output_type": "stream",
     "text": [
      "(1156, 3) (101, 3) (50, 3)\n",
      "(1157, 3) (100, 3) (51, 3)\n",
      "(1111, 3) (97, 3) (48, 3)\n",
      "(1157, 3) (101, 3) (51, 3)\n"
     ]
    }
   ],
   "source": [
    "animado_train = train[style_array_train == 'animado']\n",
    "animado_val = val[style_array_val == 'animado']\n",
    "animado_test = test[style_array_test == 'animado']\n",
    "print(animado_train.shape, animado_val.shape, animado_test.shape)\n",
    "\n",
    "acolhedor_train = train[style_array_train == 'acolhedor']\n",
    "acolhedor_val = val[style_array_val == 'acolhedor']\n",
    "acolhedor_test = test[style_array_test == 'acolhedor']\n",
    "print(acolhedor_train.shape, acolhedor_val.shape, acolhedor_test.shape)\n",
    "\n",
    "rispido_train = train[style_array_train == 'rispido']\n",
    "rispido_val = val[style_array_val == 'rispido']\n",
    "rispido_test = test[style_array_test == 'rispido']\n",
    "print(rispido_train.shape, rispido_val.shape, rispido_test.shape)\n",
    "\n",
    "neutro_train = train[style_array_train == 'neutro']\n",
    "neutro_val = val[style_array_val == 'neutro']\n",
    "neutro_test = test[style_array_test == 'neutro']\n",
    "print(neutro_train.shape, neutro_val.shape, neutro_test.shape)"
   ]
  },
  {
   "cell_type": "code",
   "execution_count": 6,
   "metadata": {},
   "outputs": [],
   "source": [
    "# # Savings csv's\n",
    "\n",
    "# animado_train.to_csv('animado_train.csv', sep = ';' , encoding = 'utf-8', index = False)\n",
    "# animado_val.to_csv('animado_val.csv', sep = ';' , encoding = 'utf-8', index = False)\n",
    "# animado_test.to_csv('animado_test.csv', sep = ';' , encoding = 'utf-8', index = False)\n",
    "\n",
    "# acolhedor_train.to_csv('acolhedor_train.csv', sep = ';' , encoding = 'utf-8', index = False)\n",
    "# acolhedor_val.to_csv('acolhedor_val.csv', sep = ';' , encoding = 'utf-8', index = False)\n",
    "# acolhedor_test.to_csv('acolhedor_test.csv', sep = ';' , encoding = 'utf-8', index = False)\n",
    "\n",
    "# rispido_train.to_csv('rispido_train.csv', sep = ';' , encoding = 'utf-8', index = False)\n",
    "# rispido_val.to_csv('rispido_val.csv', sep = ';' , encoding = 'utf-8', index = False)\n",
    "# rispido_test.to_csv('rispido_test.csv', sep = ';' , encoding = 'utf-8', index = False)\n",
    "\n",
    "# neutro_train.to_csv('neutro_train.csv', sep = ';' , encoding = 'utf-8', index = False)\n",
    "# neutro_val.to_csv('neutro_val.csv', sep = ';' , encoding = 'utf-8', index = False)\n",
    "# neutro_test.to_csv('neutro_test.csv', sep = ';' , encoding = 'utf-8', index = False)"
   ]
  },
  {
   "cell_type": "markdown",
   "metadata": {},
   "source": [
    "# Now , generating lookup table lists"
   ]
  },
  {
   "cell_type": "code",
   "execution_count": 7,
   "metadata": {},
   "outputs": [],
   "source": [
    "style_array_train = np.array([wav2style(w, False) for w in train.wav_path])\n",
    "style_array_val = np.array([wav2style(w, False) for w in val.wav_path])\n",
    "style_array_test = np.array([wav2style(w, False) for w in test.wav_path])\n",
    "\n",
    "train['style'] = style_array_train\n",
    "val['style'] = style_array_val\n",
    "test['style'] = style_array_test\n",
    "\n",
    "# train.to_csv('lookup_train.csv', sep = ';' , encoding = 'utf-8', index = False)\n",
    "# val.to_csv('lookup_val.csv', sep = ';' , encoding = 'utf-8', index = False)\n",
    "# test.to_csv('lookup_test.csv', sep = ';' , encoding = 'utf-8', index = False)"
   ]
  },
  {
   "cell_type": "code",
   "execution_count": 8,
   "metadata": {},
   "outputs": [
    {
     "data": {
      "text/html": [
       "<div>\n",
       "<style scoped>\n",
       "    .dataframe tbody tr th:only-of-type {\n",
       "        vertical-align: middle;\n",
       "    }\n",
       "\n",
       "    .dataframe tbody tr th {\n",
       "        vertical-align: top;\n",
       "    }\n",
       "\n",
       "    .dataframe thead th {\n",
       "        text-align: right;\n",
       "    }\n",
       "</style>\n",
       "<table border=\"1\" class=\"dataframe\">\n",
       "  <thead>\n",
       "    <tr style=\"text-align: right;\">\n",
       "      <th></th>\n",
       "      <th>phonetic_transcription</th>\n",
       "      <th>wav_path</th>\n",
       "      <th>speaker</th>\n",
       "      <th>style</th>\n",
       "    </tr>\n",
       "  </thead>\n",
       "  <tbody>\n",
       "    <tr>\n",
       "      <th>0</th>\n",
       "      <td>#p ee ss tt 'eh rr ii 'uu kk ac ii gg 'uu sh i...</td>\n",
       "      <td>/l/disk1/awstebas/data/TTS/speaker-adriana/nom...</td>\n",
       "      <td>adriana</td>\n",
       "      <td>neutro</td>\n",
       "    </tr>\n",
       "    <tr>\n",
       "      <th>1</th>\n",
       "      <td>#p 'uu uw ts ic mm uc pp rd 'aa zz uc pp 'aa r...</td>\n",
       "      <td>/l/disk1/awstebas/data/TTS/speaker-adriana/pg_...</td>\n",
       "      <td>adriana</td>\n",
       "      <td>neutro</td>\n",
       "    </tr>\n",
       "    <tr>\n",
       "      <th>2</th>\n",
       "      <td>#p 'oh lh ac 'ee uw 'uu zz uc mm 'aa ij zz aa ...</td>\n",
       "      <td>/l/disk1/awstebas/data/TTS/speaker-adriana/cal...</td>\n",
       "      <td>adriana</td>\n",
       "      <td>neutro</td>\n",
       "    </tr>\n",
       "    <tr>\n",
       "      <th>3</th>\n",
       "      <td>#p ac ss en tt rd 'aa uw dz ic aa tt en dz ii ...</td>\n",
       "      <td>/l/disk1/awstebas/data/TTS/speaker-adriana/pg_...</td>\n",
       "      <td>adriana</td>\n",
       "      <td>neutro</td>\n",
       "    </tr>\n",
       "    <tr>\n",
       "      <th>4</th>\n",
       "      <td>#p aa pp ll 'ii kk ac ic rx ee zz gg 'aa tt ac...</td>\n",
       "      <td>/l/disk1/awstebas/data/TTS/speaker-adriana/bra...</td>\n",
       "      <td>adriana</td>\n",
       "      <td>neutro</td>\n",
       "    </tr>\n",
       "  </tbody>\n",
       "</table>\n",
       "</div>"
      ],
      "text/plain": [
       "                              phonetic_transcription  \\\n",
       "0  #p ee ss tt 'eh rr ii 'uu kk ac ii gg 'uu sh i...   \n",
       "1  #p 'uu uw ts ic mm uc pp rd 'aa zz uc pp 'aa r...   \n",
       "2  #p 'oh lh ac 'ee uw 'uu zz uc mm 'aa ij zz aa ...   \n",
       "3  #p ac ss en tt rd 'aa uw dz ic aa tt en dz ii ...   \n",
       "4  #p aa pp ll 'ii kk ac ic rx ee zz gg 'aa tt ac...   \n",
       "\n",
       "                                            wav_path  speaker   style  \n",
       "0  /l/disk1/awstebas/data/TTS/speaker-adriana/nom...  adriana  neutro  \n",
       "1  /l/disk1/awstebas/data/TTS/speaker-adriana/pg_...  adriana  neutro  \n",
       "2  /l/disk1/awstebas/data/TTS/speaker-adriana/cal...  adriana  neutro  \n",
       "3  /l/disk1/awstebas/data/TTS/speaker-adriana/pg_...  adriana  neutro  \n",
       "4  /l/disk1/awstebas/data/TTS/speaker-adriana/bra...  adriana  neutro  "
      ]
     },
     "execution_count": 8,
     "metadata": {},
     "output_type": "execute_result"
    }
   ],
   "source": [
    "train.head()"
   ]
  },
  {
   "cell_type": "code",
   "execution_count": 9,
   "metadata": {},
   "outputs": [
    {
     "data": {
      "text/plain": [
       "neutro       11674\n",
       "acolhedor     1157\n",
       "animado       1156\n",
       "rispido       1111\n",
       "Name: style, dtype: int64"
      ]
     },
     "execution_count": 9,
     "metadata": {},
     "output_type": "execute_result"
    }
   ],
   "source": [
    "train['style'].value_counts()"
   ]
  },
  {
   "cell_type": "code",
   "execution_count": 10,
   "metadata": {},
   "outputs": [
    {
     "data": {
      "text/plain": [
       "neutro       655\n",
       "animado      101\n",
       "acolhedor    100\n",
       "rispido       97\n",
       "Name: style, dtype: int64"
      ]
     },
     "execution_count": 10,
     "metadata": {},
     "output_type": "execute_result"
    }
   ],
   "source": [
    "val['style'].value_counts()"
   ]
  },
  {
   "cell_type": "code",
   "execution_count": 11,
   "metadata": {},
   "outputs": [
    {
     "data": {
      "text/plain": [
       "neutro       71\n",
       "acolhedor    51\n",
       "animado      50\n",
       "rispido      48\n",
       "Name: style, dtype: int64"
      ]
     },
     "execution_count": 11,
     "metadata": {},
     "output_type": "execute_result"
    }
   ],
   "source": [
    "test['style'].value_counts()"
   ]
  },
  {
   "cell_type": "code",
   "execution_count": 12,
   "metadata": {},
   "outputs": [
    {
     "data": {
      "text/plain": [
       "0.0802980132450331"
      ]
     },
     "execution_count": 12,
     "metadata": {},
     "output_type": "execute_result"
    }
   ],
   "source": [
    "97/(1111+97)"
   ]
  },
  {
   "cell_type": "code",
   "execution_count": 13,
   "metadata": {},
   "outputs": [
    {
     "data": {
      "text/plain": [
       "0.07961783439490445"
      ]
     },
     "execution_count": 13,
     "metadata": {},
     "output_type": "execute_result"
    }
   ],
   "source": [
    "100/(1156+100)"
   ]
  },
  {
   "cell_type": "code",
   "execution_count": null,
   "metadata": {},
   "outputs": [],
   "source": []
  }
 ],
 "metadata": {
  "kernelspec": {
   "display_name": "Python 3",
   "language": "python",
   "name": "python3"
  },
  "language_info": {
   "codemirror_mode": {
    "name": "ipython",
    "version": 3
   },
   "file_extension": ".py",
   "mimetype": "text/x-python",
   "name": "python",
   "nbconvert_exporter": "python",
   "pygments_lexer": "ipython3",
   "version": "3.8.3"
  }
 },
 "nbformat": 4,
 "nbformat_minor": 2
}
