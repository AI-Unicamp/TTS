{
 "cells": [
  {
   "cell_type": "markdown",
   "id": "682d3621",
   "metadata": {},
   "source": [
    "The idea here is to set the neural data with no \"eps_neutro\" in its name as \"none\", and then, its id will be ignored by classification layer, so doing semi-supervised learning, and focusing in classifying the straight modeled styles.\n"
   ]
  },
  {
   "cell_type": "code",
   "execution_count": 1,
   "id": "6b8416ef",
   "metadata": {},
   "outputs": [],
   "source": [
    "import pandas as pd\n",
    "import numpy as np"
   ]
  },
  {
   "cell_type": "code",
   "execution_count": 2,
   "id": "40aa20af",
   "metadata": {},
   "outputs": [],
   "source": [
    "train = pd.read_csv('lookup_train.csv', encoding='utf-8', delimiter = ';')\n",
    "val = pd.read_csv('lookup_val.csv', encoding='utf-8', delimiter = ';')\n",
    "test = pd.read_csv('lookup_test.csv', encoding='utf-8', delimiter = ';')"
   ]
  },
  {
   "cell_type": "code",
   "execution_count": 3,
   "id": "177b0e75",
   "metadata": {},
   "outputs": [
    {
     "data": {
      "text/html": [
       "<div>\n",
       "<style scoped>\n",
       "    .dataframe tbody tr th:only-of-type {\n",
       "        vertical-align: middle;\n",
       "    }\n",
       "\n",
       "    .dataframe tbody tr th {\n",
       "        vertical-align: top;\n",
       "    }\n",
       "\n",
       "    .dataframe thead th {\n",
       "        text-align: right;\n",
       "    }\n",
       "</style>\n",
       "<table border=\"1\" class=\"dataframe\">\n",
       "  <thead>\n",
       "    <tr style=\"text-align: right;\">\n",
       "      <th></th>\n",
       "      <th>phonetic_transcription</th>\n",
       "      <th>wav_path</th>\n",
       "      <th>speaker</th>\n",
       "      <th>style</th>\n",
       "    </tr>\n",
       "  </thead>\n",
       "  <tbody>\n",
       "    <tr>\n",
       "      <th>0</th>\n",
       "      <td>#p ee ss tt 'eh rr ii 'uu kk ac ii gg 'uu sh i...</td>\n",
       "      <td>/l/disk1/awstebas/data/TTS/speaker-adriana/nom...</td>\n",
       "      <td>adriana</td>\n",
       "      <td>neutro</td>\n",
       "    </tr>\n",
       "    <tr>\n",
       "      <th>1</th>\n",
       "      <td>#p 'uu uw ts ic mm uc pp rd 'aa zz uc pp 'aa r...</td>\n",
       "      <td>/l/disk1/awstebas/data/TTS/speaker-adriana/pg_...</td>\n",
       "      <td>adriana</td>\n",
       "      <td>neutro</td>\n",
       "    </tr>\n",
       "    <tr>\n",
       "      <th>2</th>\n",
       "      <td>#p 'oh lh ac 'ee uw 'uu zz uc mm 'aa ij zz aa ...</td>\n",
       "      <td>/l/disk1/awstebas/data/TTS/speaker-adriana/cal...</td>\n",
       "      <td>adriana</td>\n",
       "      <td>neutro</td>\n",
       "    </tr>\n",
       "    <tr>\n",
       "      <th>3</th>\n",
       "      <td>#p ac ss en tt rd 'aa uw dz ic aa tt en dz ii ...</td>\n",
       "      <td>/l/disk1/awstebas/data/TTS/speaker-adriana/pg_...</td>\n",
       "      <td>adriana</td>\n",
       "      <td>neutro</td>\n",
       "    </tr>\n",
       "    <tr>\n",
       "      <th>4</th>\n",
       "      <td>#p aa pp ll 'ii kk ac ic rx ee zz gg 'aa tt ac...</td>\n",
       "      <td>/l/disk1/awstebas/data/TTS/speaker-adriana/bra...</td>\n",
       "      <td>adriana</td>\n",
       "      <td>neutro</td>\n",
       "    </tr>\n",
       "  </tbody>\n",
       "</table>\n",
       "</div>"
      ],
      "text/plain": [
       "                              phonetic_transcription  \\\n",
       "0  #p ee ss tt 'eh rr ii 'uu kk ac ii gg 'uu sh i...   \n",
       "1  #p 'uu uw ts ic mm uc pp rd 'aa zz uc pp 'aa r...   \n",
       "2  #p 'oh lh ac 'ee uw 'uu zz uc mm 'aa ij zz aa ...   \n",
       "3  #p ac ss en tt rd 'aa uw dz ic aa tt en dz ii ...   \n",
       "4  #p aa pp ll 'ii kk ac ic rx ee zz gg 'aa tt ac...   \n",
       "\n",
       "                                            wav_path  speaker   style  \n",
       "0  /l/disk1/awstebas/data/TTS/speaker-adriana/nom...  adriana  neutro  \n",
       "1  /l/disk1/awstebas/data/TTS/speaker-adriana/pg_...  adriana  neutro  \n",
       "2  /l/disk1/awstebas/data/TTS/speaker-adriana/cal...  adriana  neutro  \n",
       "3  /l/disk1/awstebas/data/TTS/speaker-adriana/pg_...  adriana  neutro  \n",
       "4  /l/disk1/awstebas/data/TTS/speaker-adriana/bra...  adriana  neutro  "
      ]
     },
     "execution_count": 3,
     "metadata": {},
     "output_type": "execute_result"
    }
   ],
   "source": [
    "train.head()"
   ]
  },
  {
   "cell_type": "code",
   "execution_count": 4,
   "id": "8dfae35d",
   "metadata": {},
   "outputs": [
    {
     "data": {
      "text/plain": [
       "neutro       11674\n",
       "acolhedor     1157\n",
       "animado       1156\n",
       "rispido       1111\n",
       "Name: style, dtype: int64"
      ]
     },
     "execution_count": 4,
     "metadata": {},
     "output_type": "execute_result"
    }
   ],
   "source": [
    "train['style'].value_counts()"
   ]
  },
  {
   "cell_type": "code",
   "execution_count": 5,
   "id": "894da202",
   "metadata": {},
   "outputs": [],
   "source": [
    "def wavpath2style(wpath):\n",
    "    if('eps_neutro' in wpath):\n",
    "        return 'neutro'\n",
    "    elif('eps_animado' in wpath):\n",
    "        return 'animado'\n",
    "    elif('eps_acolhedor' in wpath):\n",
    "        return 'acolhedor'\n",
    "    elif('eps_rispido' in wpath):\n",
    "        return 'rispido'\n",
    "    else:\n",
    "        return 'none'\n",
    "new_styles = [wavpath2style(wpath) for wpath in train.wav_path]"
   ]
  },
  {
   "cell_type": "code",
   "execution_count": 6,
   "id": "c51d111a",
   "metadata": {},
   "outputs": [
    {
     "data": {
      "text/plain": [
       "none         10517\n",
       "acolhedor     1157\n",
       "neutro        1157\n",
       "animado       1156\n",
       "rispido       1111\n",
       "Name: style, dtype: int64"
      ]
     },
     "execution_count": 6,
     "metadata": {},
     "output_type": "execute_result"
    }
   ],
   "source": [
    "train['style'] = new_styles\n",
    "train['style'].value_counts()"
   ]
  },
  {
   "cell_type": "code",
   "execution_count": 7,
   "id": "c175cfad",
   "metadata": {},
   "outputs": [
    {
     "data": {
      "text/plain": [
       "none         554\n",
       "animado      101\n",
       "neutro       101\n",
       "acolhedor    100\n",
       "rispido       97\n",
       "Name: style, dtype: int64"
      ]
     },
     "execution_count": 7,
     "metadata": {},
     "output_type": "execute_result"
    }
   ],
   "source": [
    "new_styles = [wavpath2style(wpath) for wpath in val.wav_path]\n",
    "val['style'] = new_styles\n",
    "val['style'].value_counts()"
   ]
  },
  {
   "cell_type": "code",
   "execution_count": 8,
   "id": "416ae71c",
   "metadata": {},
   "outputs": [
    {
     "data": {
      "text/plain": [
       "neutro       51\n",
       "acolhedor    51\n",
       "animado      50\n",
       "rispido      48\n",
       "none         20\n",
       "Name: style, dtype: int64"
      ]
     },
     "execution_count": 8,
     "metadata": {},
     "output_type": "execute_result"
    }
   ],
   "source": [
    "new_styles = [wavpath2style(wpath) for wpath in test.wav_path]\n",
    "test['style'] = new_styles\n",
    "test['style'].value_counts()"
   ]
  },
  {
   "cell_type": "code",
   "execution_count": null,
   "id": "c05e20c1",
   "metadata": {},
   "outputs": [],
   "source": []
  },
  {
   "cell_type": "code",
   "execution_count": 12,
   "id": "e3e6e818",
   "metadata": {},
   "outputs": [],
   "source": [
    "train.to_csv('lookup_ss_train.csv', sep = ';' , encoding = 'utf-8', index = False)\n",
    "val.to_csv('lookup_ss_val.csv', sep = ';' , encoding = 'utf-8', index = False)\n",
    "test.to_csv('lookup_ss_test.csv', sep = ';' , encoding = 'utf-8', index = False)"
   ]
  },
  {
   "cell_type": "code",
   "execution_count": 9,
   "id": "000b18fa",
   "metadata": {},
   "outputs": [],
   "source": [
    "train[train['style'] != 'none'].to_csv('lookup_clean_train.csv', sep = ';' , encoding = 'utf-8', index = False)\n",
    "val[val['style'] != 'none'].to_csv('lookup_clean_val.csv', sep = ';' , encoding = 'utf-8', index = False)\n",
    "test[test['style'] != 'none'].to_csv('lookup_clean_test.csv', sep = ';' , encoding = 'utf-8', index = False)"
   ]
  },
  {
   "cell_type": "code",
   "execution_count": 11,
   "id": "7fd49195",
   "metadata": {},
   "outputs": [
    {
     "data": {
      "text/plain": [
       "acolhedor    1157\n",
       "neutro       1157\n",
       "animado      1156\n",
       "rispido      1111\n",
       "Name: style, dtype: int64"
      ]
     },
     "execution_count": 11,
     "metadata": {},
     "output_type": "execute_result"
    }
   ],
   "source": [
    "train[train['style'] != 'none']['style'].value_counts()"
   ]
  },
  {
   "cell_type": "code",
   "execution_count": null,
   "id": "dbbf36a5",
   "metadata": {},
   "outputs": [],
   "source": []
  }
 ],
 "metadata": {
  "kernelspec": {
   "display_name": "Python 3",
   "language": "python",
   "name": "python3"
  },
  "language_info": {
   "codemirror_mode": {
    "name": "ipython",
    "version": 3
   },
   "file_extension": ".py",
   "mimetype": "text/x-python",
   "name": "python",
   "nbconvert_exporter": "python",
   "pygments_lexer": "ipython3",
   "version": "3.8.3"
  }
 },
 "nbformat": 4,
 "nbformat_minor": 5
}
