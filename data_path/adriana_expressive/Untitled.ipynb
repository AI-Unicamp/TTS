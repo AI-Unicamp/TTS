{
 "cells": [
  {
   "cell_type": "code",
   "execution_count": 1,
   "id": "3614bf26",
   "metadata": {},
   "outputs": [],
   "source": [
    "import os"
   ]
  },
  {
   "cell_type": "code",
   "execution_count": 24,
   "id": "ed0a357b",
   "metadata": {},
   "outputs": [],
   "source": [
    "i = 0\n",
    "\n",
    "items = []\n",
    "with open('cpqd_train.csv', 'r', encoding='utf-8') as f:\n",
    "    for line in f:\n",
    "        cols = line.split(';')\n",
    "        if i==2:\n",
    "            break\n",
    "            \n",
    "        if(cols[0] == 'phonetic_transcription'): # It indicates that the first row is the header so we need to skip\n",
    "            continue\n",
    "        wav_file = cols[1]\n",
    "        text = cols[0]\n",
    "        speaker_name = cols[2][:-1].replace(\" \", \"\") # The last char is always \"\\n\" since after this line is a breakline\n",
    "        items.append([text,wav_file,speaker_name])\n",
    "        i += 1"
   ]
  },
  {
   "cell_type": "code",
   "execution_count": 25,
   "id": "b71ad3bb",
   "metadata": {},
   "outputs": [
    {
     "data": {
      "text/plain": [
       "[[\"#p ee ss tt 'eh rr ii 'uu kk ac ii gg 'uu sh ic #p\",\n",
       "  '/l/disk1/awstebas/data/TTS/speaker-adriana/nomes/wav22/nomes0526.wav',\n",
       "  'adriana'],\n",
       " [\"#p 'uu uw ts ic mm uc pp rd 'aa zz uc pp 'aa rr ac nn ee gg oo ss ii 'aa rf ss 'ee uw dd 'eh bb ic tt uc kk on ac uu nn ii dd 'eh rf pp ic #p\",\n",
       "  '/l/disk1/awstebas/data/TTS/speaker-adriana/pg_generico/wav22/pg_generico0199.wav',\n",
       "  'adriana']]"
      ]
     },
     "execution_count": 25,
     "metadata": {},
     "output_type": "execute_result"
    }
   ],
   "source": [
    "items"
   ]
  },
  {
   "cell_type": "code",
   "execution_count": 21,
   "id": "39b2c00f",
   "metadata": {},
   "outputs": [
    {
     "data": {
      "text/plain": [
       "3"
      ]
     },
     "execution_count": 21,
     "metadata": {},
     "output_type": "execute_result"
    }
   ],
   "source": [
    "len(items[0])"
   ]
  },
  {
   "cell_type": "markdown",
   "id": "89da1b9a",
   "metadata": {},
   "source": [
    "items"
   ]
  },
  {
   "cell_type": "code",
   "execution_count": null,
   "id": "5bafbaf6",
   "metadata": {},
   "outputs": [],
   "source": []
  }
 ],
 "metadata": {
  "kernelspec": {
   "display_name": "Python 3",
   "language": "python",
   "name": "python3"
  },
  "language_info": {
   "codemirror_mode": {
    "name": "ipython",
    "version": 3
   },
   "file_extension": ".py",
   "mimetype": "text/x-python",
   "name": "python",
   "nbconvert_exporter": "python",
   "pygments_lexer": "ipython3",
   "version": "3.8.3"
  }
 },
 "nbformat": 4,
 "nbformat_minor": 5
}
