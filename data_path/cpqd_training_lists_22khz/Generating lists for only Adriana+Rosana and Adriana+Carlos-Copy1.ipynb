{
 "cells": [
  {
   "cell_type": "markdown",
   "id": "881f61e2",
   "metadata": {},
   "source": [
    "# ADRIANA + ROSANA"
   ]
  },
  {
   "cell_type": "code",
   "execution_count": 1,
   "id": "0032ce00",
   "metadata": {},
   "outputs": [],
   "source": [
    "import pandas as pd\n",
    "import os\n",
    "\n",
    "train = pd.read_csv('mp_styles_oneneutral_train.csv', delimiter = ';' , encoding = 'utf-8')\n",
    "val = pd.read_csv('mp_styles_oneneutral_val.csv', delimiter = ';' , encoding = 'utf-8')\n",
    "test = pd.read_csv('mp_styles_oneneutral_test.csv', delimiter = ';' , encoding = 'utf-8')"
   ]
  },
  {
   "cell_type": "code",
   "execution_count": 2,
   "id": "4a83fb0a",
   "metadata": {},
   "outputs": [
    {
     "data": {
      "text/plain": [
       "((38308, 4), (1188, 4), (245, 4))"
      ]
     },
     "execution_count": 2,
     "metadata": {},
     "output_type": "execute_result"
    }
   ],
   "source": [
    "train.shape, val.shape, test.shape"
   ]
  },
  {
   "cell_type": "code",
   "execution_count": 3,
   "id": "3ad9b49d",
   "metadata": {},
   "outputs": [],
   "source": [
    "train = train[train['speaker'].isin(['rosana','adriana'])]\n",
    "val = val[val['speaker'].isin(['rosana','adriana'])]\n",
    "test = test[test['speaker'].isin(['rosana','adriana'])]"
   ]
  },
  {
   "cell_type": "code",
   "execution_count": 4,
   "id": "9de0bd1a",
   "metadata": {},
   "outputs": [
    {
     "data": {
      "text/plain": [
       "((20851, 4), (1011, 4), (226, 4))"
      ]
     },
     "execution_count": 4,
     "metadata": {},
     "output_type": "execute_result"
    }
   ],
   "source": [
    "train.shape, val.shape, test.shape"
   ]
  },
  {
   "cell_type": "code",
   "execution_count": 5,
   "id": "8a505390",
   "metadata": {},
   "outputs": [
    {
     "data": {
      "text/plain": [
       "neutro       17427\n",
       "acolhedor     1157\n",
       "animado       1156\n",
       "rispido       1111\n",
       "Name: style, dtype: int64"
      ]
     },
     "execution_count": 5,
     "metadata": {},
     "output_type": "execute_result"
    }
   ],
   "source": [
    "train['style'].value_counts()"
   ]
  },
  {
   "cell_type": "code",
   "execution_count": 6,
   "id": "1c3e8d43",
   "metadata": {},
   "outputs": [
    {
     "data": {
      "text/plain": [
       "adriana    15098\n",
       "rosana      5753\n",
       "Name: speaker, dtype: int64"
      ]
     },
     "execution_count": 6,
     "metadata": {},
     "output_type": "execute_result"
    }
   ],
   "source": [
    "train['speaker'].value_counts()"
   ]
  },
  {
   "cell_type": "code",
   "execution_count": 7,
   "id": "8986fdbd",
   "metadata": {},
   "outputs": [
    {
     "data": {
      "text/plain": [
       "neutro       11674\n",
       "acolhedor     1157\n",
       "animado       1156\n",
       "rispido       1111\n",
       "Name: style, dtype: int64"
      ]
     },
     "execution_count": 7,
     "metadata": {},
     "output_type": "execute_result"
    }
   ],
   "source": [
    "train[train['speaker'] == 'adriana']['style'].value_counts()"
   ]
  },
  {
   "cell_type": "code",
   "execution_count": 8,
   "id": "97a41af9",
   "metadata": {},
   "outputs": [],
   "source": [
    "train_check = pd.read_csv(\"../adriana_expressive_lookup/lookup_train.csv\", delimiter = ';' , encoding = 'utf-8')"
   ]
  },
  {
   "cell_type": "code",
   "execution_count": 9,
   "id": "9f5020d9",
   "metadata": {},
   "outputs": [
    {
     "data": {
      "text/plain": [
       "neutro       11674\n",
       "acolhedor     1157\n",
       "animado       1156\n",
       "rispido       1111\n",
       "Name: style, dtype: int64"
      ]
     },
     "execution_count": 9,
     "metadata": {},
     "output_type": "execute_result"
    }
   ],
   "source": [
    "train_check['style'].value_counts()"
   ]
  },
  {
   "cell_type": "code",
   "execution_count": 10,
   "id": "f1f81748",
   "metadata": {},
   "outputs": [
    {
     "data": {
      "text/plain": [
       "acolhedor    1157\n",
       "neutro       1157\n",
       "animado      1156\n",
       "rispido      1111\n",
       "Name: style, dtype: int64"
      ]
     },
     "execution_count": 10,
     "metadata": {},
     "output_type": "execute_result"
    }
   ],
   "source": [
    "train[train['wav_path'].str.contains(\"eps_\")]['style'].value_counts() # Contais \"eps_\" means only canada's recorded wavs"
   ]
  },
  {
   "cell_type": "code",
   "execution_count": 11,
   "id": "45ba3635",
   "metadata": {},
   "outputs": [],
   "source": [
    "train = train[(train['wav_path'].str.contains(\"eps_\")&(train['speaker'] == 'adriana')) | (train['speaker'] != 'adriana')]\n",
    "val = val[(val['wav_path'].str.contains(\"eps_\")&(val['speaker'] == 'adriana')) | (val['speaker'] != 'adriana')]\n",
    "test = test[(test['wav_path'].str.contains(\"eps_\")&(test['speaker'] == 'adriana')) | (test['speaker'] != 'adriana')]"
   ]
  },
  {
   "cell_type": "code",
   "execution_count": 12,
   "id": "74fdeadf",
   "metadata": {},
   "outputs": [
    {
     "data": {
      "text/plain": [
       "((10334, 4), (457, 4), (206, 4))"
      ]
     },
     "execution_count": 12,
     "metadata": {},
     "output_type": "execute_result"
    }
   ],
   "source": [
    "train.shape, val.shape, test.shape"
   ]
  },
  {
   "cell_type": "code",
   "execution_count": 13,
   "id": "68e13907",
   "metadata": {},
   "outputs": [
    {
     "data": {
      "text/plain": [
       "rosana     5753\n",
       "adriana    4581\n",
       "Name: speaker, dtype: int64"
      ]
     },
     "execution_count": 13,
     "metadata": {},
     "output_type": "execute_result"
    }
   ],
   "source": [
    "train['speaker'].value_counts()"
   ]
  },
  {
   "cell_type": "code",
   "execution_count": 14,
   "id": "b42299bd",
   "metadata": {},
   "outputs": [
    {
     "data": {
      "text/plain": [
       "neutro       6910\n",
       "acolhedor    1157\n",
       "animado      1156\n",
       "rispido      1111\n",
       "Name: style, dtype: int64"
      ]
     },
     "execution_count": 14,
     "metadata": {},
     "output_type": "execute_result"
    }
   ],
   "source": [
    "train['style'].value_counts()"
   ]
  },
  {
   "cell_type": "code",
   "execution_count": 15,
   "id": "aff54494",
   "metadata": {},
   "outputs": [],
   "source": [
    "# Finally, lets save files as meta_data format for cpqd_read, which use ';' as separator\n",
    "\n",
    "cols = ['phonetic_transcription', 'wav_path', 'speaker','style']\n",
    "\n",
    "train[cols].to_csv('mp_adrianarosana_onecondition_train.csv', index = False, sep = ';', encoding='utf-8')\n",
    "val[cols].to_csv('mp_adrianarosana_onecondition_val.csv', index = False, sep=';', encoding = 'utf-8')\n",
    "test[cols].to_csv('mp_adrianarosana_onecondition_test.csv', index = False, sep=';', encoding = 'utf-8')"
   ]
  },
  {
   "cell_type": "markdown",
   "id": "3a5b466d",
   "metadata": {},
   "source": [
    "# ADRIANA + CARLOS"
   ]
  },
  {
   "cell_type": "code",
   "execution_count": 16,
   "id": "bd09a9a4",
   "metadata": {},
   "outputs": [],
   "source": [
    "import pandas as pd\n",
    "import os\n",
    "\n",
    "train = pd.read_csv('mp_styles_oneneutral_train.csv', delimiter = ';' , encoding = 'utf-8')\n",
    "val = pd.read_csv('mp_styles_oneneutral_val.csv', delimiter = ';' , encoding = 'utf-8')\n",
    "test = pd.read_csv('mp_styles_oneneutral_test.csv', delimiter = ';' , encoding = 'utf-8')"
   ]
  },
  {
   "cell_type": "code",
   "execution_count": 17,
   "id": "59760329",
   "metadata": {},
   "outputs": [],
   "source": [
    "train = train[train['speaker'].isin(['carlos','adriana'])]\n",
    "val = val[val['speaker'].isin(['carlos','adriana'])]\n",
    "test = test[test['speaker'].isin(['carlos','adriana'])]"
   ]
  },
  {
   "cell_type": "code",
   "execution_count": 18,
   "id": "70e264bd",
   "metadata": {},
   "outputs": [],
   "source": [
    "train = train[(train['wav_path'].str.contains(\"eps_\")&(train['speaker'] == 'adriana')) | (train['speaker'] != 'adriana')]\n",
    "val = val[(val['wav_path'].str.contains(\"eps_\")&(val['speaker'] == 'adriana')) | (val['speaker'] != 'adriana')]\n",
    "test = test[(test['wav_path'].str.contains(\"eps_\")&(test['speaker'] == 'adriana')) | (test['speaker'] != 'adriana')]"
   ]
  },
  {
   "cell_type": "code",
   "execution_count": 19,
   "id": "21cda61b",
   "metadata": {},
   "outputs": [
    {
     "data": {
      "text/plain": [
       "adriana    4581\n",
       "carlos     3330\n",
       "Name: speaker, dtype: int64"
      ]
     },
     "execution_count": 19,
     "metadata": {},
     "output_type": "execute_result"
    }
   ],
   "source": [
    "train['speaker'].value_counts()"
   ]
  },
  {
   "cell_type": "code",
   "execution_count": 20,
   "id": "7cfebc2a",
   "metadata": {},
   "outputs": [
    {
     "data": {
      "text/plain": [
       "neutro       4487\n",
       "acolhedor    1157\n",
       "animado      1156\n",
       "rispido      1111\n",
       "Name: style, dtype: int64"
      ]
     },
     "execution_count": 20,
     "metadata": {},
     "output_type": "execute_result"
    }
   ],
   "source": [
    "train['style'].value_counts()"
   ]
  },
  {
   "cell_type": "code",
   "execution_count": 21,
   "id": "d3abfac1",
   "metadata": {},
   "outputs": [],
   "source": [
    "# Finally, lets save files as meta_data format for cpqd_read, which use ';' as separator\n",
    "\n",
    "cols = ['phonetic_transcription', 'wav_path', 'speaker','style']\n",
    "\n",
    "train[cols].to_csv('mp_adrianacarlos_onecondition_train.csv', index = False, sep = ';', encoding='utf-8')\n",
    "val[cols].to_csv('mp_adrianacarlos_onecondition_val.csv', index = False, sep=';', encoding = 'utf-8')\n",
    "test[cols].to_csv('mp_adrianacarlos_onecondition_test.csv', index = False, sep=';', encoding = 'utf-8')"
   ]
  },
  {
   "cell_type": "code",
   "execution_count": null,
   "id": "299510dc",
   "metadata": {},
   "outputs": [],
   "source": []
  }
 ],
 "metadata": {
  "kernelspec": {
   "display_name": "Python 3",
   "language": "python",
   "name": "python3"
  },
  "language_info": {
   "codemirror_mode": {
    "name": "ipython",
    "version": 3
   },
   "file_extension": ".py",
   "mimetype": "text/x-python",
   "name": "python",
   "nbconvert_exporter": "python",
   "pygments_lexer": "ipython3",
   "version": "3.8.3"
  }
 },
 "nbformat": 4,
 "nbformat_minor": 5
}
