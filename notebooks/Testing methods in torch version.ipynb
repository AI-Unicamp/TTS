{
 "cells": [
  {
   "cell_type": "code",
   "execution_count": 1,
   "id": "c236a583",
   "metadata": {},
   "outputs": [],
   "source": [
    "import torch"
   ]
  },
  {
   "cell_type": "code",
   "execution_count": 28,
   "id": "92ca687c",
   "metadata": {},
   "outputs": [
    {
     "data": {
      "text/plain": [
       "tensor([82.5135, 89.7705, 80.8988, 87.9380, 83.6055, 86.0845, 82.2016, 90.9168,\n",
       "        83.2159, 88.0587])"
      ]
     },
     "execution_count": 28,
     "metadata": {},
     "output_type": "execute_result"
    }
   ],
   "source": [
    "from torch import linalg as LA\n",
    "\n",
    "x = torch.rand((10,256))\n",
    "y = torch.rand((10,256))\n",
    "M= x.unsqueeze(1).permute(0,2,1)*y.unsqueeze(1)\n",
    "\n",
    "LA.matrix_norm(M, ord='fro')"
   ]
  },
  {
   "cell_type": "code",
   "execution_count": 27,
   "id": "aefa6085",
   "metadata": {},
   "outputs": [
    {
     "data": {
      "text/plain": [
       "(tensor([1.4087, 1.9057, 1.1123, 1.4260, 1.2148, 0.5948, 1.0255, 0.7873, 1.8428,\n",
       "         1.0439]),\n",
       " tensor([1.0975, 0.4052, 0.7743, 0.5284, 0.6926, 0.1593, 0.6101, 0.2385, 1.1444,\n",
       "         0.1200]),\n",
       " tensor([1.1074, 0.5435, 1.0699, 0.4544, 0.5976, 0.5531, 0.8890, 0.3829, 0.9536,\n",
       "         0.2187]))"
      ]
     },
     "execution_count": 27,
     "metadata": {},
     "output_type": "execute_result"
    }
   ],
   "source": [
    "x = torch.rand((10,3))\n",
    "y = torch.rand((10,3))\n",
    "M= x.unsqueeze(1).permute(0,2,1)*y.unsqueeze(1)\n",
    "oth = LA.cross(x,y)\n",
    "M1= oth.unsqueeze(1).permute(0,2,1)*y.unsqueeze(1)\n",
    "M2= oth.unsqueeze(1).permute(0,2,1)*x.unsqueeze(1)\n",
    "LA.matrix_norm(M, ord='fro'),LA.matrix_norm(M1, ord='fro'),LA.matrix_norm(M2, ord='fro')"
   ]
  },
  {
   "cell_type": "code",
   "execution_count": 16,
   "id": "86e469d8",
   "metadata": {},
   "outputs": [
    {
     "data": {
      "text/plain": [
       "(torch.Size([10, 3]), torch.Size([10, 3]))"
      ]
     },
     "execution_count": 16,
     "metadata": {},
     "output_type": "execute_result"
    }
   ],
   "source": [
    "LA.cross(x,y).shape, x.shape"
   ]
  },
  {
   "cell_type": "code",
   "execution_count": 17,
   "id": "4df22574",
   "metadata": {},
   "outputs": [
    {
     "data": {
      "text/plain": [
       "tensor([[ 3.5670e-01, -2.5734e-01, -3.5764e-01],\n",
       "        [-4.2816e-01,  3.2093e-01,  8.2876e-02],\n",
       "        [-2.2654e-01,  7.0428e-01, -2.1356e-01],\n",
       "        [ 2.5189e-01, -4.9627e-02, -2.4716e-01],\n",
       "        [ 2.4877e-01, -2.8932e-02, -3.0688e-04],\n",
       "        [ 6.4856e-01,  2.6693e-01, -4.8360e-01],\n",
       "        [-3.3991e-01,  3.7135e-01, -1.8108e-01],\n",
       "        [ 1.5311e-01, -2.2268e-01,  1.0734e-01],\n",
       "        [-5.5849e-01,  2.9437e-01, -2.6542e-02],\n",
       "        [-2.4627e-01, -3.7406e-02,  4.4528e-02]])"
      ]
     },
     "execution_count": 17,
     "metadata": {},
     "output_type": "execute_result"
    }
   ],
   "source": [
    "LA.cross(x,y)"
   ]
  },
  {
   "cell_type": "code",
   "execution_count": null,
   "id": "5a96726c",
   "metadata": {},
   "outputs": [],
   "source": []
  },
  {
   "cell_type": "code",
   "execution_count": null,
   "id": "cbe20448",
   "metadata": {},
   "outputs": [],
   "source": []
  },
  {
   "cell_type": "markdown",
   "id": "8e3fd6f9",
   "metadata": {},
   "source": [
    "# Testing with true orthogonal vector "
   ]
  },
  {
   "cell_type": "code",
   "execution_count": 30,
   "id": "53cb05ce",
   "metadata": {},
   "outputs": [
    {
     "data": {
      "text/plain": [
       "tensor(1.)"
      ]
     },
     "execution_count": 30,
     "metadata": {},
     "output_type": "execute_result"
    }
   ],
   "source": [
    "x = torch.tensor([1.,0,0])\n",
    "y = torch.tensor([0,1.,0])\n",
    "z = torch.tensor([0,0,1.])\n",
    "\n",
    "M1 = x.unsqueeze(0).permute(1,0)*y.unsqueeze(0)\n",
    "LA.matrix_norm(M1, ord='fro')"
   ]
  },
  {
   "cell_type": "code",
   "execution_count": 31,
   "id": "70ba2017",
   "metadata": {},
   "outputs": [
    {
     "data": {
      "text/plain": [
       "tensor([ 0., -1.,  0.])"
      ]
     },
     "execution_count": 31,
     "metadata": {},
     "output_type": "execute_result"
    }
   ],
   "source": [
    "torch.cross(x,z)"
   ]
  },
  {
   "cell_type": "code",
   "execution_count": 32,
   "id": "918da1f5",
   "metadata": {},
   "outputs": [
    {
     "data": {
      "text/plain": [
       "tensor(1.)"
      ]
     },
     "execution_count": 32,
     "metadata": {},
     "output_type": "execute_result"
    }
   ],
   "source": [
    "M2 = x.unsqueeze(0).permute(1,0)*torch.cross(x,z).unsqueeze(0)\n",
    "LA.matrix_norm(M2, ord='fro')"
   ]
  },
  {
   "cell_type": "code",
   "execution_count": 33,
   "id": "fb646d35",
   "metadata": {},
   "outputs": [
    {
     "data": {
      "text/plain": [
       "tensor([[ 0., -1.,  0.],\n",
       "        [ 0., -0.,  0.],\n",
       "        [ 0., -0.,  0.]])"
      ]
     },
     "execution_count": 33,
     "metadata": {},
     "output_type": "execute_result"
    }
   ],
   "source": [
    "x.unsqueeze(0).permute(1,0)*torch.cross(x,z).unsqueeze(0)"
   ]
  },
  {
   "cell_type": "code",
   "execution_count": 34,
   "id": "566cf802",
   "metadata": {},
   "outputs": [
    {
     "data": {
      "text/plain": [
       "tensor([[ 0.,  0.,  0.],\n",
       "        [-1., -0., -0.],\n",
       "        [ 0.,  0.,  0.]])"
      ]
     },
     "execution_count": 34,
     "metadata": {},
     "output_type": "execute_result"
    }
   ],
   "source": [
    "x.unsqueeze(0)*torch.cross(x,z).unsqueeze(0).permute(1,0)"
   ]
  },
  {
   "cell_type": "code",
   "execution_count": 21,
   "id": "22701366",
   "metadata": {},
   "outputs": [
    {
     "data": {
      "text/plain": [
       "tensor([[0., 1., 0.],\n",
       "        [0., 0., 0.],\n",
       "        [0., 0., 0.]])"
      ]
     },
     "execution_count": 21,
     "metadata": {},
     "output_type": "execute_result"
    }
   ],
   "source": [
    "M1"
   ]
  },
  {
   "cell_type": "code",
   "execution_count": 19,
   "id": "3b95a2c6",
   "metadata": {},
   "outputs": [
    {
     "data": {
      "text/plain": [
       "tensor(1.)"
      ]
     },
     "execution_count": 19,
     "metadata": {},
     "output_type": "execute_result"
    }
   ],
   "source": [
    "M1 = x.unsqueeze(0).permute(1,0)*y.unsqueeze(0)\n",
    "LA.matrix_norm(M1, ord='fro')"
   ]
  },
  {
   "cell_type": "code",
   "execution_count": null,
   "id": "6c7b309c",
   "metadata": {},
   "outputs": [],
   "source": []
  }
 ],
 "metadata": {
  "kernelspec": {
   "display_name": "Python 3",
   "language": "python",
   "name": "python3"
  },
  "language_info": {
   "codemirror_mode": {
    "name": "ipython",
    "version": 3
   },
   "file_extension": ".py",
   "mimetype": "text/x-python",
   "name": "python",
   "nbconvert_exporter": "python",
   "pygments_lexer": "ipython3",
   "version": "3.8.3"
  }
 },
 "nbformat": 4,
 "nbformat_minor": 5
}
